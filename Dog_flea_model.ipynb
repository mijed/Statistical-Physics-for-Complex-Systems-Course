{
 "cells": [
  {
   "cell_type": "markdown",
   "metadata": {},
   "source": [
    "# Ehrenfest dog flea model"
   ]
  },
  {
   "cell_type": "code",
   "execution_count": 12,
   "metadata": {},
   "outputs": [
    {
     "data": {
      "text/plain": [
       "[<matplotlib.lines.Line2D at 0x1545c238cd0>,\n",
       " <matplotlib.lines.Line2D at 0x1545c238d00>]"
      ]
     },
     "execution_count": 12,
     "metadata": {},
     "output_type": "execute_result"
    },
    {
     "data": {
      "image/png": "[encoded data removed]",
      "text/plain": [
       "<Figure size 432x288 with 1 Axes>"
      ]
     },
     "metadata": {
      "needs_background": "light"
     },
     "output_type": "display_data"
    }
   ],
   "source": [
    "import numpy as np\n",
    "import random\n",
    "import matplotlib.pyplot as plt\n",
    "%matplotlib inline\n",
    "\n",
    "N = 1000\n",
    "t_sym = 10000\n",
    "time_steps = np.arange(0,t_sym,1)\n",
    "\n",
    "p = 0.5\n",
    "\n",
    "\n",
    "# 0 - flea on REX, 1 - flee on ACE\n",
    "fleas = [0]*N\n",
    "\n",
    "#First list in REX, Second ACE\n",
    "fleas_states = [[N],[0]]\n",
    "options = ['jump','stay']\n",
    "\n",
    "for t in time_steps:\n",
    "    # Random sampling index of fleas\n",
    "    flea_idx = random.randrange(len(fleas))\n",
    "\n",
    "    if fleas[flea_idx] == 1:\n",
    "        choice = random.choices(options,[p,1-p])\n",
    "        if choice == ['jump']:\n",
    "            fleas[flea_idx] = 0\n",
    "    \n",
    "    elif fleas[flea_idx] == 0:\n",
    "        choice = random.choices(options,[p,1-p])\n",
    "        if choice == ['jump']:\n",
    "            fleas[flea_idx] = 1\n",
    "    \n",
    "\n",
    "    \n",
    "    fleas_states[0].append(fleas.count(0))\n",
    "    fleas_states[1].append(fleas.count(1))\n",
    "\n",
    "\n",
    "plt.plot(time_steps,fleas_states[0][1:],fleas_states[1][1:])\n",
    "\n"
   ]
  }
 ],
 "metadata": {
  "interpreter": {
   "hash": "5aee893a8ff5d7a7c4f7470fb463d16fc0c27b2278cd28701ef9a0025860db00"
  },
  "kernelspec": {
   "display_name": "Python 3.8.5 ('base')",
   "language": "python",
   "name": "python3"
  },
  "language_info": {
   "codemirror_mode": {
    "name": "ipython",
    "version": 3
   },
   "file_extension": ".py",
   "mimetype": "text/x-python",
   "name": "python",
   "nbconvert_exporter": "python",
   "pygments_lexer": "ipython3",
   "version": "3.8.5"
  },
  "orig_nbformat": 4
 },
 "nbformat": 4,
 "nbformat_minor": 2
}
